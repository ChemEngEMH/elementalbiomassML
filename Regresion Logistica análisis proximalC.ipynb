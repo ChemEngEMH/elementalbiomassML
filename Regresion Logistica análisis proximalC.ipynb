{
 "cells": [
  {
   "cell_type": "markdown",
   "metadata": {
    "id": "i4PTyOJVKeQd"
   },
   "source": [
    "\n",
    "*objective*\n",
    "From the data available on proximate analysis and calorific value, obtain a machine learning model to classify the different biomasses in their respective cluester.\n"
   ]
  },
  {
   "cell_type": "code",
   "execution_count": 1,
   "metadata": {},
   "outputs": [],
   "source": [
    "# We import the libraries\n",
    "import pandas as pd\n",
    "import numpy as np\n",
    "import seaborn as sns\n",
    "import matplotlib.pyplot as plt\n",
    "import glob as glob\n",
    "import os\n",
    "import scipy.stats as stats\n",
    "from sklearn.model_selection import train_test_split\n",
    "from sklearn.preprocessing import StandardScaler\n",
    "from sklearn.linear_model import LogisticRegression\n",
    "from sklearn.metrics import confusion_matrix\n",
    "from sklearn.metrics import precision_score\n",
    "from sklearn.metrics import classification_report\n",
    "from sklearn import metrics\n",
    "from __future__ import print_function #This is especially useful to ensure compatibility between different versions of Python\n",
    "import pickle #The pickle module is used in Python to serialize and deserialize objects"
   ]
  },
  {
   "cell_type": "code",
   "execution_count": 57,
   "metadata": {},
   "outputs": [],
   "source": [
    "#read file\n",
    "archivo = \"Codigos/Datos de biomasa nuevos.xlsx\"\n",
    "df_datosdeprueba = pd.read_excel(archivo, engine='openpyxl')\n"
   ]
  },
  {
   "cell_type": "code",
   "execution_count": 53,
   "metadata": {},
   "outputs": [],
   "source": [
    "# Retrain the model with all the data\n",
    "X = df_inicial1.loc[:, ['AR_Moisturecontent','AR_Ashcontent','AR_Volatilematter','AR_Fixedcarbon','AR_Netcalorificvalue(LHV)']].values\n",
    "y = df_inicial1.loc[:, ['cluster']].values\n",
    "\n",
    "# Retrain the model\n",
    "rL_model =clasificador.fit(X, y.ravel())"
   ]
  },
  {
   "cell_type": "code",
   "execution_count": 67,
   "metadata": {},
   "outputs": [],
   "source": [
    "XN = df_datosp.loc[:, ['AR_Moisturecontent','AR_Ashcontent','AR_Volatilematter','AR_Fixedcarbon','AR_Netcalorificvalue(LHV)']].values\n"
   ]
  },
  {
   "cell_type": "code",
   "execution_count": 69,
   "metadata": {},
   "outputs": [],
   "source": [
    "#Scaling the data\n",
    "escalador = StandardScaler()\n",
    "Xnuevo = escalador.fit_transform(XN)\n"
   ]
  },
  {
   "cell_type": "code",
   "execution_count": 71,
   "metadata": {},
   "outputs": [
    {
     "name": "stdout",
     "output_type": "stream",
     "text": [
      "[3 0 0 0 3 0 0 3 3 0 3 0 0 0 0 0 0 3 0 0 0 3 0 0 0 0 0 3 3 0 0 0 0 0 0 0 0\n",
      " 0 0 0 0 2 0 0 1 0 0 0 0 0 0 0 0 0 0 0 0 0 0 3 0 0 0 0 3 1 0 0 1 1 0 3 2 0\n",
      " 0 0 0 0 1 1 1 3 1 3 1 3 3 3 1 1 3 1 1 3 3 3 3 3 3 3 3 3 3 3 3 3 3 3 3 3 3\n",
      " 3 1 1 3 3 1 3 3 1 1 1 1 1 1 3 3 1 3 1 3 1 1 1 3 3 1 1 1 1 3 1 1 1 1 1 1 1\n",
      " 1 1 1 1 1 1 1 1 1 1 1 1 1 1 1 3 1 3 1 1 1 3 1 1 1 1 1 3 1 1 1 1 1 1 1 1 1\n",
      " 1]\n"
     ]
    }
   ],
   "source": [
    "#data classification\n",
    "Clsification = modelo_cargado.predict(Xnuevo)\n",
    "\n",
    "print(Clsification )"
   ]
  },
  {
   "cell_type": "code",
   "execution_count": 73,
   "metadata": {},
   "outputs": [],
   "source": [
    "df_datosp['cluster'] = predicciones"
   ]
  },
  {
   "cell_type": "code",
   "execution_count": 79,
   "metadata": {},
   "outputs": [],
   "source": [
    "df_datosp.to_csv('Codigos/df_datosetiquetadosnuevos.csv', index=False)"
   ]
  },
  {
   "cell_type": "code",
   "execution_count": 81,
   "metadata": {},
   "outputs": [
    {
     "name": "stdout",
     "output_type": "stream",
     "text": [
      "cluster\n",
      "0    60\n",
      "1    72\n",
      "2     2\n",
      "3    52\n",
      "dtype: int64\n"
     ]
    }
   ],
   "source": [
    "# Count how much data each cluster has\n",
    "conteo_cluester = df_datosp.groupby('cluster').size()\n",
    "\n",
    "# Show results\n",
    "print(conteo_cluester)"
   ]
  },
  {
   "cell_type": "code",
   "execution_count": null,
   "metadata": {},
   "outputs": [],
   "source": []
  },
  {
   "cell_type": "code",
   "execution_count": null,
   "metadata": {},
   "outputs": [],
   "source": []
  }
 ],
 "metadata": {
  "colab": {
   "authorship_tag": "ABX9TyOfsArm2RApJiCFzX9JwqM4",
   "mount_file_id": "11r_GlwjKvHj4CjRRZxEklkKwLoqZ7XER",
   "provenance": [
    {
     "file_id": "1b2pBMOjMw8xhUucyEcXPfh4cDae7h8tm",
     "timestamp": 1729274563876
    },
    {
     "file_id": "1MWIn41dzKkzFKJe8kgdV5PPHMG39YE0P",
     "timestamp": 1728401997609
    },
    {
     "file_id": "11r_GlwjKvHj4CjRRZxEklkKwLoqZ7XER",
     "timestamp": 1724167547775
    },
    {
     "file_id": "1yLbhuIEIZcx1Jbh_aR9wXuY5TVXnFZcZ",
     "timestamp": 1716703613843
    },
    {
     "file_id": "18Db1iBlU3Bot_PtotwBMRcYdE-3stFlg",
     "timestamp": 1716399313174
    }
   ]
  },
  "kernelspec": {
   "display_name": "Python 3 (ipykernel)",
   "language": "python",
   "name": "python3"
  },
  "language_info": {
   "codemirror_mode": {
    "name": "ipython",
    "version": 3
   },
   "file_extension": ".py",
   "mimetype": "text/x-python",
   "name": "python",
   "nbconvert_exporter": "python",
   "pygments_lexer": "ipython3",
   "version": "3.12.7"
  }
 },
 "nbformat": 4,
 "nbformat_minor": 4
}
