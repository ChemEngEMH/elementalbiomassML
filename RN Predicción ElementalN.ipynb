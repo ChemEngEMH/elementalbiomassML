{
 "cells": [
  {
   "cell_type": "markdown",
   "metadata": {
    "id": "i4PTyOJVKeQd"
   },
   "source": [
    "\n",
    "*Objective*\n",
    "\n",
    "Based on available data on proximate analysis, calorific value, and elemental analysis, develop a machine learning model to predict the elemental analysis of different biomasses."
   ]
  },
  {
   "cell_type": "code",
   "execution_count": 25,
   "metadata": {},
   "outputs": [],
   "source": [
    "\n",
    "# General-purpose libraries\n",
    "import os\n",
    "import glob\n",
    "import pickle\n",
    "import numpy as np\n",
    "import pandas as pd\n",
    "from random import sample\n",
    "\n",
    "# Visualization\n",
    "import matplotlib.pyplot as plt\n",
    "import matplotlib.cm as cm\n",
    "import matplotlib.colors as colors\n",
    "import matplotlib as mpl\n",
    "from mpl_toolkits.mplot3d import Axes3D\n",
    "from mpl_toolkits.axes_grid1 import make_axes_locatable\n",
    "import seaborn as sns\n",
    "from IPython.display import Image\n",
    "%matplotlib inline\n",
    "# Scikit-learn - Preprocessing\n",
    "from sklearn.preprocessing import StandardScaler, MinMaxScaler, OrdinalEncoder\n",
    "\n",
    "# Scikit-learn - Models\n",
    "from sklearn.preprocessing import OneHotEncoder\n",
    "\n",
    "import keras"
   ]
  },
  {
   "cell_type": "code",
   "execution_count": 29,
   "metadata": {
    "executionInfo": {
     "elapsed": 369,
     "status": "ok",
     "timestamp": 1730828585812,
     "user": {
      "displayName": "Natalia Torres",
      "userId": "02594394199113179671"
     },
     "user_tz": 360
    },
    "id": "iOoNquZs1hRl"
   },
   "outputs": [],
   "source": [
    "from tensorflow.keras import backend as K\n",
    "\n",
    "def r2_score(y_train, y_pred):\n",
    "    SS_res = K.sum(K.square(y_train - y_pred))\n",
    "    SS_tot = K.sum(K.square(y_train - K.mean(y_train)))\n",
    "    return 1 - SS_res / (SS_tot + K.epsilon())"
   ]
  },
  {
   "cell_type": "code",
   "execution_count": 31,
   "metadata": {},
   "outputs": [],
   "source": [
    "def global_r2_score(y_true, y_pred):\n",
    "    ss_res = np.sum((y_true - y_pred) ** 2)\n",
    "    ss_tot = np.sum((y_true - np.mean(y_true)) ** 2)\n",
    "    return 1 - ss_res / (ss_tot + 1e-10)  # add small epsilon to avoid division by zero"
   ]
  },
  {
   "cell_type": "code",
   "execution_count": 33,
   "metadata": {},
   "outputs": [],
   "source": [
    "from sklearn.metrics import mean_squared_error, r2_score"
   ]
  },
  {
   "cell_type": "code",
   "execution_count": null,
   "metadata": {},
   "outputs": [],
   "source": [
    "#Load the file with data from the proximate analysis, calorific value and cluester.\n",
    "archivo = \"Codigos/Datosdebiomasarango.xlsx\"\n",
    "df_Nuevo = pd.read_excel(archivo, engine='openpyxl')"
   ]
  },
  {
   "cell_type": "code",
   "execution_count": 40,
   "metadata": {},
   "outputs": [],
   "source": [
    "import joblib\n",
    "# Load saved models\n",
    "X_scaler = joblib.load('corrida/experiment_170925007/scaler_X_units70_run8.pkl')\n",
    "y_scaler = joblib.load('corrida/experiment_170925007/scaler_y_units70_run8.pkl') \n",
    "encoder = joblib.load('encoder.pkl')"
   ]
  },
  {
   "cell_type": "code",
   "execution_count": 41,
   "metadata": {},
   "outputs": [],
   "source": [
    "from tensorflow.keras.models import load_model\n",
    "modelo_cargado = load_model('corrida/experiment_170925007/modelo_170925007.keras', custom_objects={'r2_score_keras': r2_score})\n"
   ]
  },
  {
   "cell_type": "code",
   "execution_count": 42,
   "metadata": {},
   "outputs": [],
   "source": [
    "XN = df_Nuevo[['AR_Moisturecontent','AR_Ashcontent','AR_Volatilematter','AR_Fixedcarbon','AR_Netcalorificvalue(LHV)', 'cluster']]"
   ]
  },
  {
   "cell_type": "code",
   "execution_count": 47,
   "metadata": {},
   "outputs": [],
   "source": [
    "YN = df_Nuevo[['AR_Carbon','AR_Hydrogen','AR_Nitrogen','AR_Sulphur', 'AR_Oxygen']]"
   ]
  },
  {
   "cell_type": "code",
   "execution_count": 49,
   "metadata": {},
   "outputs": [
    {
     "name": "stdout",
     "output_type": "stream",
     "text": [
      "Shape final: (75, 9)\n",
      "Columnas finales: ['AR_Moisturecontent', 'AR_Ashcontent', 'AR_Volatilematter', 'AR_Fixedcarbon', 'AR_Netcalorificvalue(LHV)', 'cluster_0.0', 'cluster_1.0', 'cluster_2.0', 'cluster_3.0']\n",
      "Columnas del encoder: ['cluster_0.0', 'cluster_1.0', 'cluster_2.0', 'cluster_3.0']\n"
     ]
    }
   ],
   "source": [
    "# Process numeric columns\n",
    "XN_numericas = XN[['AR_Moisturecontent', 'AR_Ashcontent', 'AR_Volatilematter', \n",
    "                  'AR_Fixedcarbon', 'AR_Netcalorificvalue(LHV)']].astype(float)\n",
    "\n",
    "# Scale numeric columns\n",
    "XN_numericas_scaled = X_scaler .transform(XN_numericas)\n",
    "XN_numericas_scaled_df = pd.DataFrame(XN_numericas_scaled, \n",
    "                                     columns=['AR_Moisturecontent', 'AR_Ashcontent', 'AR_Volatilematter', \n",
    "                                             'AR_Fixedcarbon', 'AR_Netcalorificvalue(LHV)'], \n",
    "                                     dtype=np.float32)\n",
    "\n",
    "\n",
    "# Use the saved encoder for the cluster column\n",
    "XN_cluster_encoded = encoder.transform(XN[['cluster']])\n",
    "XN_cluster_encoded_df = pd.DataFrame(XN_cluster_encoded, \n",
    "                                    columns=encoder.get_feature_names_out(['cluster']), \n",
    "                                    dtype=np.float32)\n",
    "\n",
    "# Combine all\n",
    "XN_numericas_scaled_df.reset_index(drop=True, inplace=True)\n",
    "XN_cluster_encoded_df.reset_index(drop=True, inplace=True)\n",
    "XN_final = pd.concat([XN_numericas_scaled_df, XN_cluster_encoded_df], axis=1)\n",
    "\n",
    "print(f\"Shape final: {XN_final.shape}\")\n",
    "print(f\"Columnas finales: {list(XN_final.columns)}\")\n",
    "print(f\"Columnas del encoder: {list(encoder.get_feature_names_out(['cluster']))}\")"
   ]
  },
  {
   "cell_type": "code",
   "execution_count": 53,
   "metadata": {},
   "outputs": [
    {
     "name": "stdout",
     "output_type": "stream",
     "text": [
      "\u001b[1m3/3\u001b[0m \u001b[32m━━━━━━━━━━━━━━━━━━━━\u001b[0m\u001b[37m\u001b[0m \u001b[1m0s\u001b[0m 16ms/step\n"
     ]
    }
   ],
   "source": [
    "#Elemental analysis prediction\n",
    "y_predicciones = modelo_cargado.predict( XN_final)"
   ]
  },
  {
   "cell_type": "code",
   "execution_count": 55,
   "metadata": {},
   "outputs": [],
   "source": [
    "#Data descaling\n",
    "xNuevo_predictN1=y_scaler.inverse_transform(y_predicciones)\n",
    "xNuevo_predictN2= np.array(xNuevo_predictN1).reshape(-1)\n",
    "YP=pd.DataFrame(xNuevo_predictN1)"
   ]
  },
  {
   "cell_type": "code",
   "execution_count": 57,
   "metadata": {},
   "outputs": [
    {
     "data": {
      "text/html": [
       "<div>\n",
       "<style scoped>\n",
       "    .dataframe tbody tr th:only-of-type {\n",
       "        vertical-align: middle;\n",
       "    }\n",
       "\n",
       "    .dataframe tbody tr th {\n",
       "        vertical-align: top;\n",
       "    }\n",
       "\n",
       "    .dataframe thead th {\n",
       "        text-align: right;\n",
       "    }\n",
       "</style>\n",
       "<table border=\"1\" class=\"dataframe\">\n",
       "  <thead>\n",
       "    <tr style=\"text-align: right;\">\n",
       "      <th></th>\n",
       "      <th>0</th>\n",
       "      <th>1</th>\n",
       "      <th>2</th>\n",
       "      <th>3</th>\n",
       "      <th>4</th>\n",
       "    </tr>\n",
       "  </thead>\n",
       "  <tbody>\n",
       "    <tr>\n",
       "      <th>count</th>\n",
       "      <td>75.000000</td>\n",
       "      <td>75.000000</td>\n",
       "      <td>75.000000</td>\n",
       "      <td>75.000000</td>\n",
       "      <td>75.000000</td>\n",
       "    </tr>\n",
       "    <tr>\n",
       "      <th>mean</th>\n",
       "      <td>40.794071</td>\n",
       "      <td>5.102915</td>\n",
       "      <td>0.774577</td>\n",
       "      <td>0.169027</td>\n",
       "      <td>34.343811</td>\n",
       "    </tr>\n",
       "    <tr>\n",
       "      <th>std</th>\n",
       "      <td>8.183843</td>\n",
       "      <td>0.821752</td>\n",
       "      <td>0.542385</td>\n",
       "      <td>0.144560</td>\n",
       "      <td>5.441303</td>\n",
       "    </tr>\n",
       "    <tr>\n",
       "      <th>min</th>\n",
       "      <td>16.675745</td>\n",
       "      <td>2.284978</td>\n",
       "      <td>0.303493</td>\n",
       "      <td>0.057798</td>\n",
       "      <td>15.734706</td>\n",
       "    </tr>\n",
       "    <tr>\n",
       "      <th>25%</th>\n",
       "      <td>38.221226</td>\n",
       "      <td>4.938545</td>\n",
       "      <td>0.476823</td>\n",
       "      <td>0.109637</td>\n",
       "      <td>32.820202</td>\n",
       "    </tr>\n",
       "    <tr>\n",
       "      <th>50%</th>\n",
       "      <td>43.548668</td>\n",
       "      <td>5.388448</td>\n",
       "      <td>0.653476</td>\n",
       "      <td>0.132878</td>\n",
       "      <td>36.513329</td>\n",
       "    </tr>\n",
       "    <tr>\n",
       "      <th>75%</th>\n",
       "      <td>45.480244</td>\n",
       "      <td>5.576010</td>\n",
       "      <td>0.838604</td>\n",
       "      <td>0.176738</td>\n",
       "      <td>37.706001</td>\n",
       "    </tr>\n",
       "    <tr>\n",
       "      <th>max</th>\n",
       "      <td>55.027359</td>\n",
       "      <td>6.082721</td>\n",
       "      <td>4.100028</td>\n",
       "      <td>1.182762</td>\n",
       "      <td>39.300362</td>\n",
       "    </tr>\n",
       "  </tbody>\n",
       "</table>\n",
       "</div>"
      ],
      "text/plain": [
       "               0          1          2          3          4\n",
       "count  75.000000  75.000000  75.000000  75.000000  75.000000\n",
       "mean   40.794071   5.102915   0.774577   0.169027  34.343811\n",
       "std     8.183843   0.821752   0.542385   0.144560   5.441303\n",
       "min    16.675745   2.284978   0.303493   0.057798  15.734706\n",
       "25%    38.221226   4.938545   0.476823   0.109637  32.820202\n",
       "50%    43.548668   5.388448   0.653476   0.132878  36.513329\n",
       "75%    45.480244   5.576010   0.838604   0.176738  37.706001\n",
       "max    55.027359   6.082721   4.100028   1.182762  39.300362"
      ]
     },
     "execution_count": 57,
     "metadata": {},
     "output_type": "execute_result"
    }
   ],
   "source": [
    "YP.describe()"
   ]
  }
 ],
 "metadata": {
  "colab": {
   "authorship_tag": "ABX9TyOfsArm2RApJiCFzX9JwqM4",
   "mount_file_id": "11r_GlwjKvHj4CjRRZxEklkKwLoqZ7XER",
   "provenance": [
    {
     "file_id": "1b2pBMOjMw8xhUucyEcXPfh4cDae7h8tm",
     "timestamp": 1729274563876
    },
    {
     "file_id": "1MWIn41dzKkzFKJe8kgdV5PPHMG39YE0P",
     "timestamp": 1728401997609
    },
    {
     "file_id": "11r_GlwjKvHj4CjRRZxEklkKwLoqZ7XER",
     "timestamp": 1724167547775
    },
    {
     "file_id": "1yLbhuIEIZcx1Jbh_aR9wXuY5TVXnFZcZ",
     "timestamp": 1716703613843
    },
    {
     "file_id": "18Db1iBlU3Bot_PtotwBMRcYdE-3stFlg",
     "timestamp": 1716399313174
    }
   ]
  },
  "kernelspec": {
   "display_name": "Python 3 (ipykernel)",
   "language": "python",
   "name": "python3"
  },
  "language_info": {
   "codemirror_mode": {
    "name": "ipython",
    "version": 3
   },
   "file_extension": ".py",
   "mimetype": "text/x-python",
   "name": "python",
   "nbconvert_exporter": "python",
   "pygments_lexer": "ipython3",
   "version": "3.12.7"
  }
 },
 "nbformat": 4,
 "nbformat_minor": 4
}
